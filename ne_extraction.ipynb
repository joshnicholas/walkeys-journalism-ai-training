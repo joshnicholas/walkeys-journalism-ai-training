{
 "cells": [
  {
   "cell_type": "code",
   "execution_count": 1,
   "metadata": {},
   "outputs": [],
   "source": [
    "import wikipedia\n",
    "from llama_index.core.tools.ondemand_loader_tool import OnDemandLoaderTool\n",
    "from llama_index.readers.wikipedia import WikipediaReader\n",
    "reader = WikipediaReader()\n",
    "\n",
    "import nest_asyncio\n",
    "nest_asyncio.apply()\n"
   ]
  },
  {
   "cell_type": "code",
   "execution_count": 2,
   "metadata": {},
   "outputs": [],
   "source": [
    "from llama_index.core import VectorStoreIndex\n",
    "from llama_index.core import Document\n",
    "\n",
    "from llama_index.llms.ollama import Ollama\n",
    "\n",
    "llm = Ollama(model=\"mistral-7b\")\n"
   ]
  },
  {
   "cell_type": "code",
   "execution_count": 3,
   "metadata": {},
   "outputs": [],
   "source": [
    "search_for = \"Sanath Jayasuriya\"\n",
    "\n",
    "results = wikipedia.search(search_for)\n",
    "page = wikipedia.page(results[0])\n"
   ]
  },
  {
   "cell_type": "code",
   "execution_count": 4,
   "metadata": {},
   "outputs": [
    {
     "name": "stdout",
     "output_type": "stream",
     "text": [
      " The context information mentions several locations throughout the text, including:\n",
      "\n",
      "* Matara, Sri Lanka (Sanath Jayasuriya's birthplace)\n",
      "* Melbourne, Australia (where Sanath Jayasuriya made his One Day International debut)\n",
      "* Hamilton, New Zealand (where Sanath Jayasuriya made his Test debut)\n",
      "* Sharjah (location of a notable One Day International innings by Sanath Jayasuriya)\n",
      "\n",
      "There may be other locations mentioned in the text, but these are the ones explicitly stated."
     ]
    }
   ],
   "source": [
    "doc = [Document(text=page.content)]\n",
    "\n",
    "index = VectorStoreIndex.from_documents(doc)\n",
    "query_engine = index.as_query_engine(streaming=True,\n",
    "                                     llm=Ollama(model=\"mistral\", \n",
    "                                                request_timeout=60.0))\n",
    "\n",
    "response = query_engine.query(\"Please extract all the locations in the page\")\n",
    "response.print_response_stream()"
   ]
  }
 ],
 "metadata": {
  "kernelspec": {
   "display_name": "bob",
   "language": "python",
   "name": "python3"
  },
  "language_info": {
   "codemirror_mode": {
    "name": "ipython",
    "version": 3
   },
   "file_extension": ".py",
   "mimetype": "text/x-python",
   "name": "python",
   "nbconvert_exporter": "python",
   "pygments_lexer": "ipython3",
   "version": "3.12.2"
  }
 },
 "nbformat": 4,
 "nbformat_minor": 2
}
