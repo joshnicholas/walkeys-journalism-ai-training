{
 "cells": [
  {
   "cell_type": "code",
   "execution_count": null,
   "metadata": {},
   "outputs": [],
   "source": [
    "import pandas as pd \n",
    "\n",
    "def ai_matcher(first_list, second_list):\n",
    "    # # Adapted from: https://blog.gopenai.com/fuzzy-string-matching-with-llama-index-662a6c803944\n",
    "\n",
    "    from llama_index.core.schema import TextNode\n",
    "    from llama_index.core import VectorStoreIndex, Settings\n",
    "    from llama_index.core.embeddings import resolve_embed_model\n",
    "\n",
    "    Settings.embed_model = resolve_embed_model(\"local:BAAI/bge-small-en-v1.5\")\n",
    "\n",
    "    nodes = [TextNode(text=x) for x in second_list]\n",
    "\n",
    "    index = VectorStoreIndex(nodes)\n",
    "\n",
    "    retriever = index.as_retriever(similarity_top_k=1, choice_batch_size=1)\n",
    "\n",
    "    return [{\"Name\": x, \"Matched\": retriever.retrieve(f\"find {x}\")[0].node.text} for x in first_list]\n"
   ]
  },
  {
   "cell_type": "code",
   "execution_count": null,
   "metadata": {},
   "outputs": [],
   "source": [
    "actuals = ['JT Sports LLC','Tom Baseball Inc.','Context Express LLC',\n",
    "'ZB Sicily LLC','Lightening Express LLC','Fire Road Express',\n",
    "'Earth Treks','TS Sports LLC','MM Baseball Inc.','Contact Express LLC',\n",
    "'AB Sicily LLC','Lightening Roads LLC']\n",
    "\n",
    "samples = ['jtsport','tombaseball','context express','zbsicily',\n",
    "         'lightening express','fire roads']\n",
    "\n",
    "df = pd.DataFrame.from_records(ai_matcher(samples, actuals))\n",
    "\n",
    "print(df)"
   ]
  }
 ],
 "metadata": {
  "kernelspec": {
   "display_name": "bob",
   "language": "python",
   "name": "python3"
  },
  "language_info": {
   "codemirror_mode": {
    "name": "ipython",
    "version": 3
   },
   "file_extension": ".py",
   "mimetype": "text/x-python",
   "name": "python",
   "nbconvert_exporter": "python",
   "pygments_lexer": "ipython3",
   "version": "3.12.2"
  }
 },
 "nbformat": 4,
 "nbformat_minor": 2
}
