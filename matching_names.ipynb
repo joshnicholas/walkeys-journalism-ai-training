{
 "cells": [
  {
   "cell_type": "code",
   "execution_count": 8,
   "metadata": {},
   "outputs": [],
   "source": [
    "from llama_index.core.schema import TextNode\n",
    "from llama_index.core import VectorStoreIndex\n",
    "from llama_index.core import VectorStoreIndex, SimpleDirectoryReader, Settings\n",
    "\n",
    "## Adapted from https://blog.gopenai.com/fuzzy-string-matching-with-llama-index-662a6c803944\n",
    "\n",
    "actuals = ['JT Sports LLC','Tom Baseball Inc.','Context Express LLC',\n",
    "'ZB Sicily LLC','Lightening Express LLC','Fire Road Express',\n",
    "'Earth Treks','TS Sports LLC','MM Baseball Inc.','Contact Express LLC',\n",
    "'AB Sicily LLC','Lightening Roads LLC']\n",
    "\n",
    "nodes = []\n",
    "for actual in actuals:\n",
    "  nodes.append(TextNode(text=actual))\n",
    "\n",
    "from llama_index.llms.ollama import Ollama\n",
    "\n",
    "llm = Ollama(model=\"mistral-7b\", request_timeout=30.0)\n",
    "Settings.llm = llm\n",
    "\n",
    "index = VectorStoreIndex(nodes=nodes)"
   ]
  },
  {
   "cell_type": "code",
   "execution_count": 9,
   "metadata": {},
   "outputs": [
    {
     "name": "stdout",
     "output_type": "stream",
     "text": [
      "jtsports : JT Sports LLC\n",
      "\n",
      "tombaseball : Tom Baseball Inc.\n",
      "\n",
      "context express : Context Express LLC\n",
      "\n",
      "zbsicily : ZB Sicily LLC\n",
      "\n",
      "lightening express : Lightening Express LLC\n",
      "\n",
      "fire roads : Fire Road Express\n",
      "\n"
     ]
    }
   ],
   "source": [
    "retriever = index.as_retriever(similarity_top_k=1, choice_batch_size=1)\n",
    "samples = ['jtsports','tombaseball','context express','zbsicily',\n",
    "         'lightening express','fire roads']\n",
    "\n",
    "for sample in samples:\n",
    "    results = retriever.retrieve(f\"find {sample}\")\n",
    "    print(sample,':', results[0].node.text)\n",
    "    print()"
   ]
  }
 ],
 "metadata": {
  "kernelspec": {
   "display_name": "bob",
   "language": "python",
   "name": "python3"
  },
  "language_info": {
   "codemirror_mode": {
    "name": "ipython",
    "version": 3
   },
   "file_extension": ".py",
   "mimetype": "text/x-python",
   "name": "python",
   "nbconvert_exporter": "python",
   "pygments_lexer": "ipython3",
   "version": "3.12.2"
  }
 },
 "nbformat": 4,
 "nbformat_minor": 2
}
