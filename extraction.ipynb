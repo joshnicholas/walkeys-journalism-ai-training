{
 "cells": [
  {
   "cell_type": "code",
   "execution_count": 4,
   "metadata": {},
   "outputs": [],
   "source": [
    "import wikipedia\n",
    "import spacy\n",
    "\n",
    "### This loads the named entity model from spacy\n",
    "NER = spacy.load(\"en_core_web_lg\")\n"
   ]
  },
  {
   "cell_type": "code",
   "execution_count": 5,
   "metadata": {},
   "outputs": [],
   "source": [
    "## Download and save a wikipedia page\n",
    "\n",
    "search_for = \"Curtly Ambrose\"\n",
    "\n",
    "results = wikipedia.search(search_for)\n",
    "page = wikipedia.page(results[0])\n",
    "\n",
    "with open(f\"data/wiki_page.txt\", 'w') as f:\n",
    "    f.write(page.content)"
   ]
  },
  {
   "cell_type": "code",
   "execution_count": 6,
   "metadata": {},
   "outputs": [
    {
     "name": "stdout",
     "output_type": "stream",
     "text": [
      "Simon Barnes\n",
      "Baum\n",
      "Martin Johnson\n",
      "Eldine Baptiste\n",
      "Malcolm Marshall\n",
      "Greg\n",
      "Garner\n",
      "Tony Cozier\n",
      "Joel Garner\n",
      "Lynwall Ambrose KCN\n",
      "Steve Waugh\n",
      "Dean Jones\n",
      "Alan Lee\n",
      "Knight\n",
      "Lee\n",
      "Malcolm] Marshall's\n",
      "Baldhead\n",
      "Andrew Radd\n",
      "Brian Lara\n",
      "Andy Roberts\n",
      "Curtly Ambrose\n",
      "Cozier\n",
      "Fazeer Mohammed\n",
      "\"Ambrose\n",
      "Atherton\n",
      "Dean\n",
      "Geoffrey\n",
      "Fazeer\n",
      "Ambrose\n",
      "Mike Selvey\n",
      "Ambrose and Walsh\n",
      "Ian Bishop\n",
      "Richie Richardson\n",
      "Richardson\n",
      "Geoffrey Dean\n",
      "John Woodcock\n",
      "Coward\n",
      "Michael Atherton\n",
      "Graeme\n",
      "Mike\n",
      "Wisden\n",
      "Ray\n",
      "Mohammad Akram\n",
      "Ahmed\n",
      "Qamar\n",
      "Matthew\n",
      "Matthew Engel\n",
      "A Viv Richards\n",
      "Viv Richards\n",
      "Tony\n",
      "Jeff Dujon\n",
      "Berry\n",
      "Winston Benjamin\n",
      "Woodcock\n",
      "Courtney Walsh\n",
      "Benson\n",
      "Robert\n",
      "Scyld Berry\n",
      "Greg Baum\n",
      "Scyld\n",
      "Bridgette\n",
      "Mohammed\n",
      "Engel\n",
      "Walsh\n",
      "Ambrose twice\n",
      "Allan Border\n",
      "Paul Allott\n",
      "Graeme Hick\n",
      "Mike Atherton\n",
      "Mike Coward\n",
      "Alan\n",
      "Wright\n",
      "Curtly Ambrose\n",
      "\n",
      "\n",
      "=\n",
      "John\n"
     ]
    }
   ],
   "source": [
    "### This is an example of finding all the people in the text using \n",
    "### the same Spacy model we used for pork barrelling\n",
    "\n",
    "text= NER(page.content)\n",
    "done = []\n",
    "people = list(set([x.text for x in text.ents if x.label_ == 'PERSON']))\n",
    "\n",
    "for person in people:\n",
    "    print(person)"
   ]
  }
 ],
 "metadata": {
  "kernelspec": {
   "display_name": "bob",
   "language": "python",
   "name": "python3"
  },
  "language_info": {
   "codemirror_mode": {
    "name": "ipython",
    "version": 3
   },
   "file_extension": ".py",
   "mimetype": "text/x-python",
   "name": "python",
   "nbconvert_exporter": "python",
   "pygments_lexer": "ipython3",
   "version": "3.12.2"
  }
 },
 "nbformat": 4,
 "nbformat_minor": 2
}
