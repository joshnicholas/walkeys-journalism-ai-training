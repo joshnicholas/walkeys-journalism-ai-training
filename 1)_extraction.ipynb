{
 "cells": [
  {
   "cell_type": "code",
   "execution_count": null,
   "metadata": {},
   "outputs": [],
   "source": [
    "import wikipedia\n",
    "import spacy\n",
    "\n",
    "### This loads the spacy model\n",
    "NER = spacy.load(\"en_core_web_lg\")\n"
   ]
  },
  {
   "cell_type": "code",
   "execution_count": null,
   "metadata": {},
   "outputs": [],
   "source": [
    "## Download and save a wikipedia page\n",
    "\n",
    "search_for = \"Curtly Ambrose\"\n",
    "\n",
    "results = wikipedia.search(search_for)\n",
    "page = wikipedia.page(results[0])\n",
    "\n",
    "with open(f\"data/wiki_page.txt\", 'w') as f:\n",
    "    f.write(page.content)"
   ]
  },
  {
   "cell_type": "code",
   "execution_count": 6,
   "metadata": {},
   "outputs": [
    {
     "name": "stdout",
     "output_type": "stream",
     "text": [
      "Curtly Ambrose\n",
      "\n",
      "\n",
      "=\n",
      "Richie Richardson\n",
      "Paul Allott\n",
      "Mohammed\n",
      "Allan Border\n",
      "Dean Jones\n",
      "Baldhead\n",
      "Robert\n",
      "Ahmed\n",
      "Alan\n",
      "Winston Benjamin\n",
      "Michael Atherton\n",
      "Dean\n",
      "Mohammad Akram\n",
      "Geoffrey\n",
      "Knight\n",
      "Curtly Ambrose\n",
      "Baum\n",
      "Tony Cozier\n",
      "Ray\n",
      "Qamar\n",
      "Courtney Walsh\n",
      "Matthew Engel\n",
      "Cozier\n",
      "Joel Garner\n",
      "Malcolm] Marshall's\n",
      "Richardson\n",
      "Andy Roberts\n",
      "Ambrose and Walsh\n",
      "Scyld\n",
      "Wright\n",
      "Martin Johnson\n",
      "Bridgette\n",
      "Ian Bishop\n",
      "Lynwall Ambrose KCN\n",
      "Wisden\n",
      "Tony\n",
      "Ambrose\n",
      "Greg\n",
      "Benson\n",
      "Matthew\n",
      "Andrew Radd\n",
      "Mike\n",
      "Steve Waugh\n",
      "Fazeer Mohammed\n",
      "Mike Atherton\n",
      "Ambrose twice\n",
      "Atherton\n",
      "Engel\n",
      "Walsh\n",
      "Graeme Hick\n",
      "Alan Lee\n",
      "Mike Selvey\n",
      "Simon Barnes\n",
      "Fazeer\n",
      "Coward\n",
      "Berry\n",
      "Woodcock\n",
      "Eldine Baptiste\n",
      "Viv Richards\n",
      "Greg Baum\n",
      "A Viv Richards\n",
      "Mike Coward\n",
      "Geoffrey Dean\n",
      "John Woodcock\n",
      "Graeme\n",
      "John\n",
      "\"Ambrose\n",
      "Lee\n",
      "Brian Lara\n",
      "Malcolm Marshall\n",
      "Jeff Dujon\n",
      "Garner\n",
      "Scyld Berry\n"
     ]
    }
   ],
   "source": [
    "### This is an example of finding all the people in the text using \n",
    "### the same Spacy model we used for pork barrelling\n",
    "\n",
    "text= NER(page.content)\n",
    "done = []\n",
    "people = list(set([x.text for x in text.ents if x.label_ == 'PERSON']))\n",
    "\n",
    "for person in people:\n",
    "    print(person)"
   ]
  }
 ],
 "metadata": {
  "kernelspec": {
   "display_name": "bob",
   "language": "python",
   "name": "python3"
  },
  "language_info": {
   "codemirror_mode": {
    "name": "ipython",
    "version": 3
   },
   "file_extension": ".py",
   "mimetype": "text/x-python",
   "name": "python",
   "nbconvert_exporter": "python",
   "pygments_lexer": "ipython3",
   "version": "3.12.2"
  }
 },
 "nbformat": 4,
 "nbformat_minor": 2
}
